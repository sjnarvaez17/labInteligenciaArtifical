{
 "cells": [
  {
   "cell_type": "code",
   "execution_count": 2,
   "metadata": {},
   "outputs": [
    {
     "name": "stdout",
     "output_type": "stream",
     "text": [
      "hello world\n"
     ]
    }
   ],
   "source": [
    "print(\"hello world\")"
   ]
  },
  {
   "cell_type": "code",
   "execution_count": 5,
   "metadata": {},
   "outputs": [
    {
     "name": "stdout",
     "output_type": "stream",
     "text": [
      "hello world\n"
     ]
    }
   ],
   "source": [
    "variable = \"hello world\"\n",
    "print(variable)"
   ]
  },
  {
   "cell_type": "code",
   "execution_count": 6,
   "metadata": {},
   "outputs": [
    {
     "data": {
      "text/plain": [
       "str"
      ]
     },
     "execution_count": 6,
     "metadata": {},
     "output_type": "execute_result"
    }
   ],
   "source": [
    "type(variable)"
   ]
  },
  {
   "cell_type": "code",
   "execution_count": 9,
   "metadata": {},
   "outputs": [
    {
     "name": "stdout",
     "output_type": "stream",
     "text": [
      "hello \n"
     ]
    }
   ],
   "source": [
    "variable = \"hello world\"\n",
    "algo = variable.replace('world','')\n",
    "print(algo)"
   ]
  },
  {
   "cell_type": "code",
   "execution_count": 10,
   "metadata": {},
   "outputs": [
    {
     "name": "stdout",
     "output_type": "stream",
     "text": [
      "1\n",
      "3\n",
      "5\n",
      "7\n",
      "9\n",
      "11\n",
      "13\n",
      "15\n",
      "17\n",
      "19\n"
     ]
    }
   ],
   "source": [
    "def pares(listica):\n",
    "    for i in listica:\n",
    "        if i%2!=0:\n",
    "            print(i)\n",
    "    return\n",
    "\n",
    "pares([1,2,3,4,5,6,7,8,9,10,11,12,13,14,15,16,17,18,19,20])"
   ]
  },
  {
   "cell_type": "code",
   "execution_count": 7,
   "metadata": {},
   "outputs": [
    {
     "name": "stdout",
     "output_type": "stream",
     "text": [
      "[1, 2, 3, 4, 5, 6]\n",
      "[1.0, 4.0, 9.0, 16.0, 25.0, 36.0]\n"
     ]
    }
   ],
   "source": [
    "import math\n",
    "\n",
    "def exponent(list, expo):\n",
    "    num=[]\n",
    "    for i in list:\n",
    "        num.append(math.pow(i,expo))\n",
    "    return num\n",
    "\n",
    "lista=[1,2,3,4,5,6]\n",
    "exponentes= exponent(lista,2)\n",
    "print(lista)\n",
    "print(exponentes)\n",
    "    "
   ]
  },
  {
   "cell_type": "code",
   "execution_count": 10,
   "metadata": {},
   "outputs": [
    {
     "name": "stdout",
     "output_type": "stream",
     "text": [
      "{'variableUno': [1, 2, 3, 4], 'variableDos': ['1', 'a', '?']}\n"
     ]
    }
   ],
   "source": [
    "diccionario = {\"variableUno\":[1,2,3,4], \"variableDos\":[\"1\",\"a\",\"?\"]}\n",
    "print(diccionario)"
   ]
  },
  {
   "cell_type": "code",
   "execution_count": 12,
   "metadata": {},
   "outputs": [
    {
     "name": "stdout",
     "output_type": "stream",
     "text": [
      "zpam\n"
     ]
    }
   ],
   "source": [
    "palabra= \"spam\".replace('s','z')\n",
    "print(palabra)"
   ]
  },
  {
   "cell_type": "code",
   "execution_count": 13,
   "metadata": {},
   "outputs": [
    {
     "name": "stdout",
     "output_type": "stream",
     "text": [
      "10\n"
     ]
    }
   ],
   "source": [
    "def perimeter(x,y):\n",
    "    per=2*x+2*y\n",
    "    return per\n",
    "\n",
    "print(perimeter(2,3))"
   ]
  },
  {
   "cell_type": "markdown",
   "metadata": {},
   "source": [
    "7 exercise"
   ]
  },
  {
   "cell_type": "code",
   "execution_count": 12,
   "metadata": {},
   "outputs": [
    {
     "name": "stdout",
     "output_type": "stream",
     "text": [
      "5550\n"
     ]
    }
   ],
   "source": [
    "class Person (object):\n",
    "\n",
    "    def __init__(self, name, height, weight):\n",
    "        self.name = name\n",
    "        self.height=height\n",
    "        self.weight=weight\n",
    "        \n",
    "    def BMI (self):\n",
    "        return self.height*self.weight\n",
    "\n",
    "x = Person (\"Eileen\",75,74)\n",
    "print (x.BMI())"
   ]
  },
  {
   "cell_type": "markdown",
   "metadata": {},
   "source": [
    "8 exercise make a programam that prints the numbers from 1 to 100 if the number is divisible by 2 then print \"whiz\" if the number is divisible by 3"
   ]
  },
  {
   "cell_type": "code",
   "execution_count": 14,
   "metadata": {},
   "outputs": [
    {
     "name": "stdout",
     "output_type": "stream",
     "text": [
      "whiz\n",
      "bang\n",
      "whiz\n",
      "bang\n",
      "whiz\n",
      "whiz\n",
      "bang\n",
      "whiz\n",
      "bang\n",
      "whiz\n",
      "whiz\n",
      "bang\n",
      "whiz\n",
      "bang\n",
      "whiz\n",
      "whiz\n",
      "bang\n",
      "whiz\n",
      "bang\n",
      "whiz\n",
      "whiz\n",
      "bang\n",
      "whiz\n",
      "bang\n",
      "whiz\n",
      "whiz\n",
      "bang\n",
      "whiz\n",
      "bang\n",
      "whiz\n",
      "whiz\n",
      "bang\n",
      "whiz\n",
      "bang\n",
      "whiz\n",
      "whiz\n",
      "bang\n",
      "whiz\n",
      "bang\n",
      "whiz\n",
      "whiz\n",
      "bang\n",
      "whiz\n",
      "bang\n",
      "whiz\n",
      "whiz\n",
      "bang\n",
      "whiz\n",
      "bang\n",
      "whiz\n",
      "whiz\n",
      "bang\n",
      "whiz\n",
      "bang\n",
      "whiz\n",
      "whiz\n",
      "bang\n",
      "whiz\n",
      "bang\n",
      "whiz\n",
      "whiz\n",
      "bang\n",
      "whiz\n",
      "bang\n",
      "whiz\n",
      "whiz\n",
      "bang\n",
      "whiz\n",
      "bang\n",
      "whiz\n",
      "whiz\n",
      "bang\n",
      "whiz\n",
      "bang\n",
      "whiz\n",
      "whiz\n",
      "bang\n",
      "whiz\n",
      "bang\n",
      "whiz\n",
      "whiz\n",
      "bang\n",
      "whiz\n",
      "bang\n"
     ]
    }
   ],
   "source": [
    "for x in range (100):\n",
    "    if (x%2==0):\n",
    "        print (\"whiz\")\n",
    "    if (x%3==0):\n",
    "        print (\"bang\")"
   ]
  }
 ],
 "metadata": {
  "kernelspec": {
   "display_name": "Python 3",
   "language": "python",
   "name": "python3"
  },
  "language_info": {
   "codemirror_mode": {
    "name": "ipython",
    "version": 3
   },
   "file_extension": ".py",
   "mimetype": "text/x-python",
   "name": "python",
   "nbconvert_exporter": "python",
   "pygments_lexer": "ipython3",
   "version": "3.7.3"
  }
 },
 "nbformat": 4,
 "nbformat_minor": 2
}
